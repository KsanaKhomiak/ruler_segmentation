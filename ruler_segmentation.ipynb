{
 "cells": [
  {
   "cell_type": "code",
   "execution_count": null,
   "metadata": {},
   "outputs": [],
   "source": [
    "import matplotlib.pyplot as plt\n",
    "import cv2\n",
    "\n",
    "def convert_size(reference_ruler_img,ruler_width):\n",
    "    gray_ruler_img = cv2.cvtColor(reference_ruler_img,cv2.COLOR_RGB2GRAY)\n",
    "    threshold_ruler_img = cv2.threshold(gray_ruler_img,\n",
    "                                        240,255,\n",
    "                                        cv2.THRESH_BINARY)[1]\n",
    "\n",
    "    ruler_all_contours = cv2.findContours(threshold_ruler_img,\n",
    "                                            cv2.RETR_TREE,\n",
    "                                            cv2.CHAIN_APPROX_SIMPLE)[0]\n",
    "    def sort_by_boundings(c):\n",
    "        bounding_rect = cv2.boundingRect(c)\n",
    "        return(bounding_rect[1], bounding_rect[0])\n",
    "    \n",
    "    ruler_all_contours = [\n",
    "        c for c in ruler_all_contours if cv2.contourArea(c) > 100]\n",
    "    ruler_all_contours.sort(key=sort_by_boundings)\n",
    "    \n",
    "    selected_contour = ruler_all_contours[-1]\n",
    "\n",
    "    ruler_contour_width = cv2.boundingRect(selected_contour)[2]\n",
    "\n",
    "    plt.imshow(cv2.rectangle(reference_ruler_img,\n",
    "                        cv2.boundingRect(selected_contour),\n",
    "                        (255,0,0), 3))\n",
    "    \n",
    "    px_in_1mm = round((ruler_contour_width/ruler_width),2)\n",
    "    \n",
    "    return px_in_1mm"
   ]
  },
  {
   "cell_type": "code",
   "execution_count": null,
   "metadata": {},
   "outputs": [],
   "source": [
    "directory = r'.\\input_data\\wooden_ruler4.jpg'\n",
    "\n",
    "reference_ruler_image = plt.imread(directory)\n",
    "%matplotlib widget\n",
    "plt.imshow(reference_ruler_image)"
   ]
  },
  {
   "cell_type": "code",
   "execution_count": null,
   "metadata": {},
   "outputs": [],
   "source": [
    "start_y = 50\n",
    "end_y = 230\n",
    "start_x = 10\n",
    "end_x = 1000\n",
    "\n",
    "ruler_image = reference_ruler_image[start_y:end_y,start_x:end_x]\n",
    "\n",
    "%matplotlib inline\n",
    "plt.imshow(ruler_image)\n",
    "print('Convertion value:', convert_size(ruler_image,130))"
   ]
  }
 ],
 "metadata": {
  "kernelspec": {
   "display_name": "base",
   "language": "python",
   "name": "python3"
  },
  "language_info": {
   "codemirror_mode": {
    "name": "ipython",
    "version": 3
   },
   "file_extension": ".py",
   "mimetype": "text/x-python",
   "name": "python",
   "nbconvert_exporter": "python",
   "pygments_lexer": "ipython3",
   "version": "3.7.1"
  },
  "orig_nbformat": 4
 },
 "nbformat": 4,
 "nbformat_minor": 2
}
